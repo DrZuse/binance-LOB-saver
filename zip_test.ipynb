{
 "cells": [
  {
   "cell_type": "code",
   "execution_count": 3,
   "metadata": {},
   "outputs": [],
   "source": [
    "from datetime import datetime"
   ]
  },
  {
   "cell_type": "code",
   "execution_count": 6,
   "metadata": {},
   "outputs": [
    {
     "data": {
      "text/plain": [
       "'2023-02-01'"
      ]
     },
     "execution_count": 6,
     "metadata": {},
     "output_type": "execute_result"
    }
   ],
   "source": [
    "\n",
    "datetime.utcfromtimestamp(1675209602162275/1_000_000).strftime('%Y-%m-%d')"
   ]
  },
  {
   "cell_type": "code",
   "execution_count": null,
   "metadata": {},
   "outputs": [],
   "source": [
    "import gzip\n",
    "content = b\"Lots of content here\"\n",
    "with gzip.open('/home/joe/file.txt.gz', 'wb') as f:\n",
    "    f.write(content)"
   ]
  },
  {
   "cell_type": "code",
   "execution_count": 18,
   "metadata": {},
   "outputs": [
    {
     "name": "stdout",
     "output_type": "stream",
     "text": [
      "[]\n",
      "no csvs\n"
     ]
    }
   ],
   "source": [
    "import os\n",
    "import zipfile\n",
    "csvs_dir = 'csvs'\n",
    "new_csv_name = 'binance_book_snapshot_20_2023-02-24-09-02_BTCUSDTcsv'\n",
    "\n",
    "csv_files = [f for f in os.listdir(csvs_dir) if f[-3:] != 'zip' and f != new_csv_name]\n",
    "print(csv_files)\n",
    "if len(csv_files) == 0:\n",
    "    print('no csvs')\n",
    "\n",
    "for fc in csv_files:\n",
    "    zip_name = csvs_dir + '/' + fc + '.zip'\n",
    "    file_name = csvs_dir + '/' + fc\n",
    "    print(zip_name)\n",
    "    print(file_name)\n",
    "    with zipfile.ZipFile(zip_name, 'w', compression=zipfile.ZIP_DEFLATED, compresslevel=9) as fc:\n",
    "        fc.write(file_name)\n",
    "        #os.remove(csvs_dir + '/' + fc)\n",
    "\n"
   ]
  },
  {
   "cell_type": "code",
   "execution_count": 9,
   "metadata": {},
   "outputs": [
    {
     "data": {
      "text/plain": [
       "['binance_book_snapshot_20_2023-02-23-19-15_BTCUSDT.csv',\n",
       " 'binance_book_snapshot_20_2023-02-23-19-17_BTCUSDT.csv',\n",
       " 'binance_book_snapshot_20_2023-02-23-19-20_BTCUSDT.csv',\n",
       " 'binance_book_snapshot_20_2023-02-24-08-21_BTCUSDT.csv',\n",
       " 'binance_book_snapshot_20_2023-02-24-08-22_BTCUSDT.csv']"
      ]
     },
     "execution_count": 9,
     "metadata": {},
     "output_type": "execute_result"
    }
   ],
   "source": [
    "import os\n",
    "csvs_dir = 'csvs'\n",
    "[f for f in os.listdir(csvs_dir) if f[-3:] != 'zip' and f!=new_csv_name]"
   ]
  },
  {
   "cell_type": "code",
   "execution_count": null,
   "metadata": {},
   "outputs": [],
   "source": []
  }
 ],
 "metadata": {
  "kernelspec": {
   "display_name": "Python 3",
   "language": "python",
   "name": "python3"
  },
  "language_info": {
   "codemirror_mode": {
    "name": "ipython",
    "version": 3
   },
   "file_extension": ".py",
   "mimetype": "text/x-python",
   "name": "python",
   "nbconvert_exporter": "python",
   "pygments_lexer": "ipython3",
   "version": "3.10.6"
  },
  "orig_nbformat": 4,
  "vscode": {
   "interpreter": {
    "hash": "916dbcbb3f70747c44a77c7bcd40155683ae19c65e1c03b4aa3499c5328201f1"
   }
  }
 },
 "nbformat": 4,
 "nbformat_minor": 2
}
