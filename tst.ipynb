{
 "cells": [
  {
   "cell_type": "code",
   "execution_count": 1,
   "metadata": {},
   "outputs": [
    {
     "name": "stdout",
     "output_type": "stream",
     "text": [
      "Date and time is: 2023-02-22 13:09:01.697262\n",
      "Timestamp is: 1677064141.697262\n"
     ]
    }
   ],
   "source": [
    "from datetime import datetime\n",
    "\n",
    "# Getting the current date and time\n",
    "dt = datetime.now()\n",
    "\n",
    "# getting the timestamp\n",
    "ts = datetime.timestamp(dt)\n",
    "\n",
    "print(\"Date and time is:\", dt)\n",
    "print(\"Timestamp is:\", ts)"
   ]
  },
  {
   "cell_type": "code",
   "execution_count": 3,
   "metadata": {},
   "outputs": [
    {
     "data": {
      "text/plain": [
       "1677064184"
      ]
     },
     "execution_count": 3,
     "metadata": {},
     "output_type": "execute_result"
    }
   ],
   "source": [
    "int(datetime.timestamp(datetime.now()))"
   ]
  },
  {
   "cell_type": "code",
   "execution_count": 4,
   "metadata": {},
   "outputs": [
    {
     "data": {
      "text/plain": [
       "1677064267.3328898"
      ]
     },
     "execution_count": 4,
     "metadata": {},
     "output_type": "execute_result"
    }
   ],
   "source": [
    "import time\n",
    "time.time()"
   ]
  },
  {
   "cell_type": "code",
   "execution_count": 8,
   "metadata": {},
   "outputs": [
    {
     "data": {
      "text/plain": [
       "1677064999.068013"
      ]
     },
     "execution_count": 8,
     "metadata": {},
     "output_type": "execute_result"
    }
   ],
   "source": [
    "from datetime import datetime\n",
    "dt = datetime.now()\n",
    "dt.timestamp()"
   ]
  },
  {
   "cell_type": "code",
   "execution_count": 5,
   "metadata": {},
   "outputs": [
    {
     "data": {
      "text/plain": [
       "1677064787938"
      ]
     },
     "execution_count": 5,
     "metadata": {},
     "output_type": "execute_result"
    }
   ],
   "source": [
    "time.time_ns() // 1_000_000"
   ]
  },
  {
   "cell_type": "code",
   "execution_count": 12,
   "metadata": {},
   "outputs": [
    {
     "data": {
      "text/plain": [
       "1677065138445577"
      ]
     },
     "execution_count": 12,
     "metadata": {},
     "output_type": "execute_result"
    }
   ],
   "source": [
    "import time\n",
    "int(time.time()*1000000.0)"
   ]
  },
  {
   "cell_type": "code",
   "execution_count": 17,
   "metadata": {},
   "outputs": [
    {
     "name": "stdout",
     "output_type": "stream",
     "text": [
      "True\n"
     ]
    }
   ],
   "source": [
    "import os.path\n",
    "\n",
    "path = 'animal.csv'\n",
    "\n",
    "check_file = os.path.exists(path)\n",
    "\n",
    "print(check_file)"
   ]
  },
  {
   "cell_type": "code",
   "execution_count": 20,
   "metadata": {},
   "outputs": [
    {
     "name": "stdout",
     "output_type": "stream",
     "text": [
      "Original Dataset\n",
      "[[1 2 3]\n",
      " [0 0 0]\n",
      " [4 5 6]\n",
      " [0 0 0]\n",
      " [7 8 9]\n",
      " [0 0 0]]\n",
      "After removing rows\n",
      "[[1 2 3]\n",
      " [4 5 6]\n",
      " [7 8 9]]\n"
     ]
    }
   ],
   "source": [
    "\n",
    "import numpy as np\n",
    "# take data\n",
    "list_d = [[1, 2, 3], [0, 0, 0], [4, 5, 6], [0, 0, 0], [7, 8, 9], [0, 0, 0]]\n",
    "data = np.array(list_d)\n",
    "# print original data having rows with all zeroes\n",
    "print(\"Original Dataset\")\n",
    "print(data)\n",
    " \n",
    "# remove rows having all zeroes\n",
    "data = data[~np.all(data == 0, axis=1)]\n",
    " \n",
    "# data after removing rows having all zeroes\n",
    "print(\"After removing rows\")\n",
    "print(data)"
   ]
  },
  {
   "cell_type": "code",
   "execution_count": 25,
   "metadata": {},
   "outputs": [
    {
     "data": {
      "text/plain": [
       "'1675209605683000'"
      ]
     },
     "execution_count": 25,
     "metadata": {},
     "output_type": "execute_result"
    }
   ],
   "source": [
    "np.unicode_(1675209605683000)"
   ]
  },
  {
   "cell_type": "code",
   "execution_count": 39,
   "metadata": {},
   "outputs": [
    {
     "data": {
      "text/plain": [
       "array([['binance', 'BTCUSDT'],\n",
       "       ['binance', 'BTCUSDT'],\n",
       "       ['binance', 'BTCUSDT']], dtype='<U7')"
      ]
     },
     "execution_count": 39,
     "metadata": {},
     "output_type": "execute_result"
    }
   ],
   "source": [
    "C = np.full((3, 2), fill_value = ['binance','BTCUSDT'], dtype='<U7')np.full((3, 2), fill_value = ['binance','BTCUSDT'], dtype='<U7')"
   ]
  },
  {
   "cell_type": "code",
   "execution_count": 165,
   "metadata": {},
   "outputs": [
    {
     "data": {
      "text/plain": [
       "array([['binance', 'BTCUSDT', '0', '0', '0.0', '0.0', '0.0', '0.0'],\n",
       "       ['binance', 'BTCUSDT', '0', '0', '0.0', '0.0', '0.0', '0.0'],\n",
       "       ['binance', 'BTCUSDT', '0', '0', '0.0', '0.0', '0.0', '0.0']],\n",
       "      dtype='<U32')"
      ]
     },
     "execution_count": 165,
     "metadata": {},
     "output_type": "execute_result"
    }
   ],
   "source": [
    "A = np.full((3, 2), fill_value = ['binance','BTCUSDT'], dtype='<U7')\n",
    "B = np.zeros((3, 2), dtype=np.int64)\n",
    "C = np.zeros((3, 4), dtype=np.float32)\n",
    "\n",
    "np.concatenate([A,B,C], axis=1)\n"
   ]
  },
  {
   "cell_type": "code",
   "execution_count": 168,
   "metadata": {},
   "outputs": [
    {
     "ename": "ValueError",
     "evalue": "array-shape mismatch in array 2 (\"c\")",
     "output_type": "error",
     "traceback": [
      "\u001b[0;31m---------------------------------------------------------------------------\u001b[0m",
      "\u001b[0;31mValueError\u001b[0m                                Traceback (most recent call last)",
      "Cell \u001b[0;32mIn[168], line 5\u001b[0m\n\u001b[1;32m      2\u001b[0m B \u001b[39m=\u001b[39m np\u001b[39m.\u001b[39mzeros((\u001b[39m3\u001b[39m, \u001b[39m2\u001b[39m), dtype\u001b[39m=\u001b[39mnp\u001b[39m.\u001b[39mint64)\n\u001b[1;32m      3\u001b[0m C \u001b[39m=\u001b[39m np\u001b[39m.\u001b[39mzeros((\u001b[39m3\u001b[39m, \u001b[39m4\u001b[39m), dtype\u001b[39m=\u001b[39mnp\u001b[39m.\u001b[39mfloat32)\n\u001b[0;32m----> 5\u001b[0m res \u001b[39m=\u001b[39m np\u001b[39m.\u001b[39;49mrec\u001b[39m.\u001b[39;49mfromarrays([A,B,C], names\u001b[39m=\u001b[39;49m\u001b[39m'\u001b[39;49m\u001b[39ma,b,c\u001b[39;49m\u001b[39m'\u001b[39;49m)\n\u001b[1;32m      6\u001b[0m res\n",
      "File \u001b[0;32m~/.local/lib/python3.10/site-packages/numpy/core/records.py:676\u001b[0m, in \u001b[0;36mfromarrays\u001b[0;34m(arrayList, dtype, shape, formats, names, titles, aligned, byteorder)\u001b[0m\n\u001b[1;32m    674\u001b[0m     name \u001b[39m=\u001b[39m _names[k]\n\u001b[1;32m    675\u001b[0m     \u001b[39mif\u001b[39;00m testshape \u001b[39m!=\u001b[39m shape:\n\u001b[0;32m--> 676\u001b[0m         \u001b[39mraise\u001b[39;00m \u001b[39mValueError\u001b[39;00m(\u001b[39mf\u001b[39m\u001b[39m'\u001b[39m\u001b[39marray-shape mismatch in array \u001b[39m\u001b[39m{\u001b[39;00mk\u001b[39m}\u001b[39;00m\u001b[39m (\u001b[39m\u001b[39m\"\u001b[39m\u001b[39m{\u001b[39;00mname\u001b[39m}\u001b[39;00m\u001b[39m\"\u001b[39m\u001b[39m)\u001b[39m\u001b[39m'\u001b[39m)\n\u001b[1;32m    678\u001b[0m     _array[name] \u001b[39m=\u001b[39m obj\n\u001b[1;32m    680\u001b[0m \u001b[39mreturn\u001b[39;00m _array\n",
      "\u001b[0;31mValueError\u001b[0m: array-shape mismatch in array 2 (\"c\")"
     ]
    }
   ],
   "source": [
    "A = np.full((3, 2), fill_value = ['binance','BTCUSDT'], dtype='<U7')\n",
    "B = np.zeros((3, 2), dtype=np.int64)\n",
    "C = np.zeros((3, 4), dtype=np.float32)\n",
    "\n",
    "res = np.rec.fromarrays([A,B,C], names='a,b,c')\n",
    "res"
   ]
  },
  {
   "cell_type": "code",
   "execution_count": 26,
   "metadata": {},
   "outputs": [],
   "source": [
    "nlevels = 1\n",
    "asks_bids_names = []\n",
    "for i in range(nlevels):\n",
    "    asks_bids_names.extend([f'asks[{i}].price', f'asks[{i}].amount', f'bids[{i}].price', f'bids[{i}].amount'])\n",
    "\n",
    "header1 = ['exchange','symbol','lastupdateid','local_timestamp']\n",
    "\n",
    "full_header = ','.join(header1 + asks_bids_names)"
   ]
  },
  {
   "cell_type": "code",
   "execution_count": 27,
   "metadata": {},
   "outputs": [],
   "source": [
    "\n",
    "# 'exchange,symbol,lastupdateid,local_timestamp,asks[0].price,asks[0].amount,bids[0].price,bids[0].amount'\n",
    "np.savetxt('test.csv', np.concatenate([A,B,C], axis=1), delimiter=',', header=full_header, fmt='%s', comments='')"
   ]
  },
  {
   "cell_type": "code",
   "execution_count": 1,
   "metadata": {},
   "outputs": [],
   "source": [
    "import numpy as np\n",
    "x = np.array([('Rex', 9, 81.0), ('Fido', 3, 27.0)],\n",
    "             dtype=[('name', 'U10'), ('age', 'i4'), ('weight', 'f4')])"
   ]
  },
  {
   "cell_type": "code",
   "execution_count": 2,
   "metadata": {},
   "outputs": [
    {
     "data": {
      "text/plain": [
       "array([('Rex', 9, 81.), ('Fido', 3, 27.)],\n",
       "      dtype=[('name', '<U10'), ('age', '<i4'), ('weight', '<f4')])"
      ]
     },
     "execution_count": 2,
     "metadata": {},
     "output_type": "execute_result"
    }
   ],
   "source": [
    "x"
   ]
  },
  {
   "cell_type": "code",
   "execution_count": 54,
   "metadata": {},
   "outputs": [
    {
     "name": "stdout",
     "output_type": "stream",
     "text": [
      "23\n",
      "23\n",
      "24\n"
     ]
    }
   ],
   "source": [
    "from datetime import datetime\n",
    "\n",
    "\n",
    "#Thursday, February 23, 2023 23:59:59\n",
    "#1677196799000\n",
    "\n",
    "#Friday, February 24, 2023 0:00:00\n",
    "#1677196800000\n",
    "#print(datetime.date(1677196799000).day)\n",
    "print(datetime.utcfromtimestamp(1677142626.508651).day) #23\n",
    "print(datetime.utcfromtimestamp(1677196799.000).day) #24 February 23, 2023 23:59:59\n",
    "print(datetime.utcfromtimestamp(1677196800.000).day) #24"
   ]
  },
  {
   "cell_type": "code",
   "execution_count": 56,
   "metadata": {},
   "outputs": [
    {
     "data": {
      "text/plain": [
       "1677142626.508651"
      ]
     },
     "execution_count": 56,
     "metadata": {},
     "output_type": "execute_result"
    }
   ],
   "source": [
    "1677142626508651/1000_000"
   ]
  },
  {
   "cell_type": "code",
   "execution_count": 87,
   "metadata": {},
   "outputs": [
    {
     "data": {
      "text/plain": [
       "'0.00007'"
      ]
     },
     "execution_count": 87,
     "metadata": {},
     "output_type": "execute_result"
    }
   ],
   "source": [
    "np.format_float_positional(np.float32(0.00007))"
   ]
  },
  {
   "cell_type": "code",
   "execution_count": null,
   "metadata": {},
   "outputs": [],
   "source": [
    "np.float32(0.00007).format_float_positional()"
   ]
  },
  {
   "cell_type": "code",
   "execution_count": 146,
   "metadata": {},
   "outputs": [],
   "source": [
    "np.set_printoptions(suppress=True)\n",
    "np.savetxt('float64.csv', [[np.float64(1.07), np.float64(1.00007)]], delimiter=',', fmt=['%.2f', '%.5f'], comments='')"
   ]
  },
  {
   "cell_type": "code",
   "execution_count": 97,
   "metadata": {},
   "outputs": [
    {
     "ename": "TypeError",
     "evalue": "only size-1 arrays can be converted to Python scalars",
     "output_type": "error",
     "traceback": [
      "\u001b[0;31m---------------------------------------------------------------------------\u001b[0m",
      "\u001b[0;31mTypeError\u001b[0m                                 Traceback (most recent call last)",
      "Cell \u001b[0;32mIn[97], line 2\u001b[0m\n\u001b[1;32m      1\u001b[0m foo \u001b[39m=\u001b[39m np\u001b[39m.\u001b[39marray([[\u001b[39m0.01\u001b[39m, \u001b[39m0.00001\u001b[39m]], dtype\u001b[39m=\u001b[39mnp\u001b[39m.\u001b[39mfloat32)\n\u001b[0;32m----> 2\u001b[0m np\u001b[39m.\u001b[39;49mformat_float_positional(foo, precision\u001b[39m=\u001b[39;49m\u001b[39m5\u001b[39;49m)\n",
      "File \u001b[0;32m~/.local/lib/python3.10/site-packages/numpy/core/arrayprint.py:1216\u001b[0m, in \u001b[0;36mformat_float_positional\u001b[0;34m(x, precision, unique, fractional, trim, sign, pad_left, pad_right, min_digits)\u001b[0m\n\u001b[1;32m   1214\u001b[0m \u001b[39mif\u001b[39;00m min_digits \u001b[39m>\u001b[39m \u001b[39m0\u001b[39m \u001b[39mand\u001b[39;00m precision \u001b[39m>\u001b[39m \u001b[39m0\u001b[39m \u001b[39mand\u001b[39;00m min_digits \u001b[39m>\u001b[39m precision:\n\u001b[1;32m   1215\u001b[0m     \u001b[39mraise\u001b[39;00m \u001b[39mValueError\u001b[39;00m(\u001b[39m\"\u001b[39m\u001b[39mmin_digits must be less than or equal to precision\u001b[39m\u001b[39m\"\u001b[39m)\n\u001b[0;32m-> 1216\u001b[0m \u001b[39mreturn\u001b[39;00m dragon4_positional(x, precision\u001b[39m=\u001b[39;49mprecision, unique\u001b[39m=\u001b[39;49munique,\n\u001b[1;32m   1217\u001b[0m                           fractional\u001b[39m=\u001b[39;49mfractional, trim\u001b[39m=\u001b[39;49mtrim,\n\u001b[1;32m   1218\u001b[0m                           sign\u001b[39m=\u001b[39;49msign, pad_left\u001b[39m=\u001b[39;49mpad_left,\n\u001b[1;32m   1219\u001b[0m                           pad_right\u001b[39m=\u001b[39;49mpad_right, min_digits\u001b[39m=\u001b[39;49mmin_digits)\n",
      "\u001b[0;31mTypeError\u001b[0m: only size-1 arrays can be converted to Python scalars"
     ]
    }
   ],
   "source": [
    "foo = np.array([[0.01, 0.00001]], dtype=np.float32)\n",
    "np.format_float_positional(foo, precision=5)"
   ]
  },
  {
   "cell_type": "code",
   "execution_count": 104,
   "metadata": {},
   "outputs": [
    {
     "data": {
      "text/plain": [
       "'[[0.01    0.00001]]'"
      ]
     },
     "execution_count": 104,
     "metadata": {},
     "output_type": "execute_result"
    }
   ],
   "source": [
    "np.array2string(np.array([[0.01, 0.00001]], dtype=np.float32), suppress_small = True)"
   ]
  },
  {
   "cell_type": "code",
   "execution_count": 105,
   "metadata": {},
   "outputs": [
    {
     "data": {
      "text/plain": [
       "array([[0.01   , 0.00001]], dtype=float32)"
      ]
     },
     "execution_count": 105,
     "metadata": {},
     "output_type": "execute_result"
    }
   ],
   "source": [
    "np.array([[0.01, 0.00001]], dtype=np.float32)"
   ]
  },
  {
   "cell_type": "code",
   "execution_count": 110,
   "metadata": {},
   "outputs": [
    {
     "ename": "SyntaxError",
     "evalue": "invalid decimal literal (492764810.py, line 1)",
     "output_type": "error",
     "traceback": [
      "\u001b[0;36m  Cell \u001b[0;32mIn[110], line 1\u001b[0;36m\u001b[0m\n\u001b[0;31m    foo[-0:]:.6f\u001b[0m\n\u001b[0m              ^\u001b[0m\n\u001b[0;31mSyntaxError\u001b[0m\u001b[0;31m:\u001b[0m invalid decimal literal\n"
     ]
    }
   ],
   "source": [
    "foo[-0:]"
   ]
  },
  {
   "cell_type": "code",
   "execution_count": 123,
   "metadata": {},
   "outputs": [
    {
     "data": {
      "text/plain": [
       "array([[0.00007]])"
      ]
     },
     "execution_count": 123,
     "metadata": {},
     "output_type": "execute_result"
    }
   ],
   "source": [
    "np.array([[0.00007]], dtype=float)"
   ]
  },
  {
   "cell_type": "code",
   "execution_count": 116,
   "metadata": {},
   "outputs": [
    {
     "ename": "TypeError",
     "evalue": "array() got an unexpected keyword argument 'f'",
     "output_type": "error",
     "traceback": [
      "\u001b[0;31m---------------------------------------------------------------------------\u001b[0m",
      "\u001b[0;31mTypeError\u001b[0m                                 Traceback (most recent call last)",
      "Cell \u001b[0;32mIn[116], line 1\u001b[0m\n\u001b[0;32m----> 1\u001b[0m np\u001b[39m.\u001b[39;49marray([[\u001b[39m0.01\u001b[39;49m, \u001b[39m0.00001\u001b[39;49m]], dtype\u001b[39m=\u001b[39;49mnp\u001b[39m.\u001b[39;49mfloat32, f\u001b[39m=\u001b[39;49m\u001b[39m'\u001b[39;49m\u001b[39m%.7f\u001b[39;49;00m\u001b[39m'\u001b[39;49m)\n",
      "\u001b[0;31mTypeError\u001b[0m: array() got an unexpected keyword argument 'f'"
     ]
    }
   ],
   "source": [
    "np.array([[0.01, 0.00001]], dtype=np.float32, f='%.7f')"
   ]
  },
  {
   "cell_type": "code",
   "execution_count": 120,
   "metadata": {},
   "outputs": [
    {
     "data": {
      "text/plain": [
       "array([[23912.97   ,     0.00001]])"
      ]
     },
     "execution_count": 120,
     "metadata": {},
     "output_type": "execute_result"
    }
   ],
   "source": [
    "np.array([[23912.97000000, 0.00001]], dtype=np.float64)"
   ]
  },
  {
   "cell_type": "code",
   "execution_count": 147,
   "metadata": {},
   "outputs": [
    {
     "name": "stdout",
     "output_type": "stream",
     "text": [
      "['%s', '%s', '%g', '%g', '%.2f', '%.5f', '%.2f', '%.5f', '%.2f', '%.5f', '%.2f', '%.5f']\n"
     ]
    }
   ],
   "source": [
    "asks_bids_names = []\n",
    "asks_bids_formats = []\n",
    "for i in range(2):\n",
    "    asks_bids_names.extend([f'asks[{i}].price', f'asks[{i}].amount', f'bids[{i}].price', f'bids[{i}].amount'])\n",
    "    asks_bids_formats.extend(['%.2f', '%.5f', '%.2f', '%.5f'])\n",
    "header1 = ['exchange','symbol','lastupdateid','local_timestamp']\n",
    "full_header = ','.join(header1 + asks_bids_names)\n",
    "#full_header = ','.join(asks_bids_names)\n",
    "header1_formats = ['%s', '%s', '%g', '%g']\n",
    "all_formats = header1_formats + asks_bids_formats\n",
    "print(all_formats)"
   ]
  },
  {
   "cell_type": "code",
   "execution_count": 160,
   "metadata": {},
   "outputs": [
    {
     "data": {
      "text/plain": [
       "rec.array([[(0., 0, 0.), (0., 0, 0.)],\n",
       "           [(0., 0, 0.), (0., 0, 0.)],\n",
       "           [(0., 0, 0.), (0., 0, 0.)]],\n",
       "          dtype=[('a', '<f4'), ('b', '<i4'), ('c', '<f4')])"
      ]
     },
     "execution_count": 160,
     "metadata": {},
     "output_type": "execute_result"
    }
   ],
   "source": [
    "A = np.zeros([3,2], dtype=np.float32)\n",
    "B = np.zeros([3,2], dtype=np.int32)\n",
    "C = np.zeros([3,2], dtype=np.float32)\n",
    "\n",
    "res = np.rec.fromarrays([A,B,C], names='a,b,c')\n",
    "res"
   ]
  },
  {
   "cell_type": "code",
   "execution_count": null,
   "metadata": {},
   "outputs": [],
   "source": []
  }
 ],
 "metadata": {
  "kernelspec": {
   "display_name": "Python 3",
   "language": "python",
   "name": "python3"
  },
  "language_info": {
   "codemirror_mode": {
    "name": "ipython",
    "version": 3
   },
   "file_extension": ".py",
   "mimetype": "text/x-python",
   "name": "python",
   "nbconvert_exporter": "python",
   "pygments_lexer": "ipython3",
   "version": "3.10.6"
  },
  "orig_nbformat": 4,
  "vscode": {
   "interpreter": {
    "hash": "916dbcbb3f70747c44a77c7bcd40155683ae19c65e1c03b4aa3499c5328201f1"
   }
  }
 },
 "nbformat": 4,
 "nbformat_minor": 2
}
